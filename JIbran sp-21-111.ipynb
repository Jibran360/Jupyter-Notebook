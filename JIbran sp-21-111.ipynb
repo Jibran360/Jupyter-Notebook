{
 "cells": [
  {
   "cell_type": "markdown",
   "metadata": {},
   "source": [
    "# Lab 2 task 1\n",
    "\n",
    "displaying menu and getting input from user to pick one choise and showing that wether the choice is valid or not\n"
   ]
  },
  {
   "cell_type": "code",
   "execution_count": 22,
   "metadata": {},
   "outputs": [
    {
     "name": "stdout",
     "output_type": "stream",
     "text": [
      "Menu: \n",
      "1. Soup and salad \n",
      "2. Pasta and salad \n",
      "3. Pasta with meat sauce \n",
      "4. Chef's special\n",
      "None\n",
      "Which number would you like to pick: 3\n",
      "Pasta with meat sauce\n"
     ]
    }
   ],
   "source": [
    "a = print(\"Menu: \\n1. Soup and salad \\n2. Pasta and salad \\n3. Pasta with meat sauce \\n4. Chef's special\")\n",
    "\n",
    "print(a)\n",
    "\n",
    "b = int(input(\"Which number would you like to pick: \"))\n",
    "if b==1:\n",
    "    print(\"Soup and salad\")\n",
    "elif b==2:\n",
    "    print(\"Pasta and salad\")\n",
    "elif b==3:\n",
    "    print(\"Pasta with meat sauce\")\n",
    "elif b==4:\n",
    "    print(\"Chef's special\")\n",
    "else:\n",
    "    print(\"Invalid Choice\")"
   ]
  },
  {
   "cell_type": "markdown",
   "metadata": {},
   "source": [
    "# Lab 2 task 2\n",
    "\n",
    "displaying variables and assigning values to them then printing the values apart applaying if else condition on them\n"
   ]
  },
  {
   "cell_type": "code",
   "execution_count": 24,
   "metadata": {},
   "outputs": [
    {
     "name": "stdout",
     "output_type": "stream",
     "text": [
      "3,5,6\n",
      "14\n",
      "The total number of  apples is greater than 10\n"
     ]
    }
   ],
   "source": [
    "john = 3\n",
    "mary = 5\n",
    "adam = 6\n",
    "\n",
    "print(john, mary, adam, sep=',')\n",
    "\n",
    "totalApples = john+mary+adam\n",
    "\n",
    "print(totalApples)\n",
    "\n",
    "if totalApples > 10:\n",
    "    print(\"The total number of  apples is greater than 10\")\n",
    "elif totalApples < 10:\n",
    "    print(\"The total number of apples is smaller than 10\")\n",
    "else: \n",
    "    print(\"The total number of apples is equal to 10\")"
   ]
  },
  {
   "cell_type": "markdown",
   "metadata": {},
   "source": []
  }
 ],
 "metadata": {
  "kernelspec": {
   "display_name": "Python 3",
   "language": "python",
   "name": "python3"
  },
  "language_info": {
   "codemirror_mode": {
    "name": "ipython",
    "version": 3
   },
   "file_extension": ".py",
   "mimetype": "text/x-python",
   "name": "python",
   "nbconvert_exporter": "python",
   "pygments_lexer": "ipython3",
   "version": "3.7.1"
  }
 },
 "nbformat": 4,
 "nbformat_minor": 2
}
