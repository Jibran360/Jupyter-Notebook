{
 "cells": [
  {
   "cell_type": "code",
   "execution_count": 1,
   "id": "be7dfb93",
   "metadata": {},
   "outputs": [],
   "source": [
    "from joblib import dump, load\n",
    "import numpy as np\n",
    "model = load('Real-Estate.joblib')"
   ]
  },
  {
   "cell_type": "code",
   "execution_count": 7,
   "id": "5b0cc3c1",
   "metadata": {},
   "outputs": [
    {
     "data": {
      "text/plain": [
       "array([46.287])"
      ]
     },
     "execution_count": 7,
     "metadata": {},
     "output_type": "execute_result"
    }
   ],
   "source": [
    "features = np.array([[-0.32131535,  0.40638296, -1.08368886, -0.27288841,  0.79461045,\n",
    "        9.99796484,  1.10498188, -0.91578796, -0.51901395, -0.84998044,\n",
    "       -2.55249488,  0.29151338, -0.69208859]])\n",
    "model.predict(features)"
   ]
  },
  {
   "cell_type": "markdown",
   "id": "e3285330",
   "metadata": {},
   "source": [
    " "
   ]
  }
 ],
 "metadata": {
  "kernelspec": {
   "display_name": "Python 3 (ipykernel)",
   "language": "python",
   "name": "python3"
  },
  "language_info": {
   "codemirror_mode": {
    "name": "ipython",
    "version": 3
   },
   "file_extension": ".py",
   "mimetype": "text/x-python",
   "name": "python",
   "nbconvert_exporter": "python",
   "pygments_lexer": "ipython3",
   "version": "3.7.4"
  }
 },
 "nbformat": 4,
 "nbformat_minor": 5
}
